{
 "cells": [
  {
   "attachments": {},
   "cell_type": "markdown",
   "metadata": {},
   "source": [
    "# Notebook to illustrate some projective geometry math"
   ]
  },
  {
   "cell_type": "code",
   "execution_count": 1,
   "metadata": {},
   "outputs": [],
   "source": [
    "import cv2\n",
    "import numpy as np\n",
    "from matplotlib import pyplot as plt"
   ]
  },
  {
   "attachments": {},
   "cell_type": "markdown",
   "metadata": {},
   "source": [
    "Lets's define some dummy camera matrix K"
   ]
  },
  {
   "cell_type": "code",
   "execution_count": 3,
   "metadata": {},
   "outputs": [
    {
     "name": "stdout",
     "output_type": "stream",
     "text": [
      "Camera intrinsic matrix K:\n",
      "[[500.   0. 320.]\n",
      " [  0. 500. 240.]\n",
      " [  0.   0.   1.]]\n"
     ]
    }
   ],
   "source": [
    "# let's assume that e are using a camera frame of resolution: 640 x 480\n",
    "# let's assume there is no skew and fx == fy\n",
    "K = np.array([\n",
    "    [500.0, 0.0,   640.0 / 2.0],\n",
    "    [0.0,   500.0, 480.0 / 2.0],\n",
    "    [0.0,   0.0,   1.0],\n",
    "])\n",
    "\n",
    "print(f'Camera intrinsic matrix K:\\n{K}')"
   ]
  },
  {
   "attachments": {},
   "cell_type": "markdown",
   "metadata": {},
   "source": [
    "Let's define some dummy points coordinates in the CCS"
   ]
  },
  {
   "cell_type": "code",
   "execution_count": 42,
   "metadata": {},
   "outputs": [],
   "source": [
    "# point right in front of the camera (along camera focal axis)\n",
    "point1_ccs = np.array([0.0, 0.0, 100.0])\n",
    "\n",
    "# point slightly below camera focal axis\n",
    "point2_ccs = np.array([0.0, 25.0, 100.0])\n",
    "\n",
    "# point slightly above camera focal axis\n",
    "point3_ccs = np.array([0.0, -25.0, 100.0])"
   ]
  },
  {
   "attachments": {},
   "cell_type": "markdown",
   "metadata": {},
   "source": [
    "Let's see where those points get projected on the camera frame, by using the following equation:\n",
    "\n",
    "$$ \\begin{bmatrix}\n",
    "\t\t\t\tx \\\\\n",
    "\t\t\t\ty \\\\\n",
    "\t\t\t\tw\n",
    "\t\t\\end{bmatrix}  =\n",
    "\t\t\\begin{bmatrix}\n",
    "\t\t\t\tf_x & 0 & c_x\\\\\n",
    "\t\t\t\t0 & f_y & c_y \\\\\n",
    "\t\t\t\t0 & 0 & 1\n",
    "\t\t\t\\end{bmatrix}\n",
    "\t\t\t\\begin{bmatrix}\n",
    "\t\t\t\tX_c \\\\\n",
    "\t\t\t\tY_c \\\\\n",
    "\t\t\t\tZ_c\n",
    "\t\t\t\\end{bmatrix}\n",
    "\t $$"
   ]
  },
  {
   "cell_type": "code",
   "execution_count": 43,
   "metadata": {},
   "outputs": [
    {
     "name": "stdout",
     "output_type": "stream",
     "text": [
      "Projection of 1st point on camera frame: [320. 240.]\n",
      "Projection of 2nd point on camera frame: [320. 365.]\n",
      "Projection of 3rd point on camera frame: [320. 115.]\n"
     ]
    }
   ],
   "source": [
    "pixel1 = K @ point1_ccs\n",
    "pixel1 /= pixel1[2]\n",
    "pixel1 = pixel1[:2]\n",
    "\n",
    "print(f'Projection of 1st point on camera frame: {pixel1}')\n",
    "\n",
    "pixel2 = K @ point2_ccs\n",
    "pixel2 /= pixel2[2]\n",
    "pixel2 = pixel2[:2]\n",
    "\n",
    "print(f'Projection of 2nd point on camera frame: {pixel2}')\n",
    "\n",
    "pixel3 = K @ point3_ccs\n",
    "pixel3 /= pixel3[2]\n",
    "pixel3 = pixel3[:2]\n",
    "\n",
    "print(f'Projection of 3rd point on camera frame: {pixel3}')"
   ]
  },
  {
   "attachments": {},
   "cell_type": "markdown",
   "metadata": {},
   "source": [
    "Let's assume a simple case of having a WCS just in front of the CCS (no rotation, just translation along Z)"
   ]
  },
  {
   "cell_type": "code",
   "execution_count": 24,
   "metadata": {},
   "outputs": [
    {
     "name": "stdout",
     "output_type": "stream",
     "text": [
      "Rotation matrix R:\n",
      "[[1. 0. 0.]\n",
      " [0. 1. 0.]\n",
      " [0. 0. 1.]]\n",
      "Translation vector t:\n",
      "[[  0.]\n",
      " [  0.]\n",
      " [100.]]\n"
     ]
    }
   ],
   "source": [
    "# no rotation\n",
    "R = np.eye(3)\n",
    "\n",
    "print(f'Rotation matrix R:\\n{R}')\n",
    "\n",
    "# translation along Z axis\n",
    "t = np.array([[0.0], [0.0], [100.0]])\n",
    "\n",
    "print(f'Translation vector t:\\n{t}')"
   ]
  },
  {
   "cell_type": "code",
   "execution_count": 28,
   "metadata": {},
   "outputs": [
    {
     "name": "stdout",
     "output_type": "stream",
     "text": [
      "[R | t] matrix:\n",
      "[[  1.   0.   0.   0.]\n",
      " [  0.   1.   0.   0.]\n",
      " [  0.   0.   1. 100.]]\n"
     ]
    }
   ],
   "source": [
    "Rt = np.hstack((R, t))\n",
    "\n",
    "print(f'[R | t] matrix:\\n{Rt}')"
   ]
  },
  {
   "attachments": {},
   "cell_type": "markdown",
   "metadata": {},
   "source": [
    "Let's define some dummy points in WCS"
   ]
  },
  {
   "cell_type": "code",
   "execution_count": 31,
   "metadata": {},
   "outputs": [],
   "source": [
    "# point right in front of the camera (along camera focal axis)\n",
    "point1_wcs = np.array([0.0, 0.0, 0.0, 1.0])\n",
    "\n",
    "# point slightly below camera focal axis\n",
    "point2_wcs = np.array([0.0, 25.0, 0.0, 1.0])\n",
    "\n",
    "# point slightly above camera focal axis\n",
    "point3_wcs = np.array([0.0, -25.0, 0.0, 1.0])"
   ]
  },
  {
   "attachments": {},
   "cell_type": "markdown",
   "metadata": {},
   "source": [
    "Let's see where those points get projected on the camera frame, by using the following equation:\n",
    "\n",
    "$$ \\begin{bmatrix}\n",
    "\t\t\t\tx \\\\\n",
    "\t\t\t\ty \\\\\n",
    "\t\t\t\tw\n",
    "\t\t\\end{bmatrix}  =\n",
    "\t\t\\begin{bmatrix}\n",
    "\t\t\t\tf_x & 0 & c_x\\\\\n",
    "\t\t\t\t0 & f_y & c_y \\\\\n",
    "\t\t\t\t0 & 0 & 1\n",
    "\t\t\t\\end{bmatrix}\n",
    "\t\t\t\\begin{bmatrix}\n",
    "\t\t\t\tR | t\n",
    "\t\t\t\\end{bmatrix}\n",
    "\t\t\t\\begin{bmatrix}\n",
    "\t\t\t\tX_c \\\\\n",
    "\t\t\t\tY_c \\\\\n",
    "\t\t\t\tZ_c \\\\\n",
    "\t\t\t\t1\n",
    "\t\t\t\\end{bmatrix}\n",
    "\t $$"
   ]
  },
  {
   "cell_type": "code",
   "execution_count": 44,
   "metadata": {},
   "outputs": [
    {
     "name": "stdout",
     "output_type": "stream",
     "text": [
      "Projection of 1st point on camera frame: [320. 240.]\n",
      "Projection of 2nd point on camera frame: [320. 365.]\n",
      "Projection of 2nd point on camera frame: [320. 115.]\n"
     ]
    }
   ],
   "source": [
    "pixel4 = K @ Rt @ point1_wcs\n",
    "pixel4 /= pixel4[2]\n",
    "pixel4 = pixel4[:2]\n",
    "\n",
    "print(f'Projection of 1st point on camera frame: {pixel4}')\n",
    "\n",
    "pixel5 = K @ Rt @ point2_wcs\n",
    "pixel5 /= pixel5[2]\n",
    "pixel5 = pixel5[:2]\n",
    "\n",
    "print(f'Projection of 2nd point on camera frame: {pixel5}')\n",
    "\n",
    "pixel6 = K @ Rt @ point3_wcs\n",
    "pixel6 /= pixel6[2]\n",
    "pixel6 = pixel6[:2]\n",
    "\n",
    "print(f'Projection of 2nd point on camera frame: {pixel6}')\n"
   ]
  },
  {
   "attachments": {},
   "cell_type": "markdown",
   "metadata": {},
   "source": [
    "Matrix P:\n",
    "\n",
    "$$\n",
    "\tP = \\begin{bmatrix}\n",
    "\t\t\t\tf_x & 0 & c_x\\\\\n",
    "\t\t\t\t0 & f_y & c_y \\\\\n",
    "\t\t\t\t0 & 0 & 1\n",
    "\t\t\t\\end{bmatrix}\n",
    "\t\t\t\\begin{bmatrix}\n",
    "\t\t\t\tR | t\n",
    "\t\t\t\\end{bmatrix}\n",
    "\n",
    "$$\n",
    "\n",
    "is often called camera projection matrix\n"
   ]
  },
  {
   "cell_type": "code",
   "execution_count": 35,
   "metadata": {},
   "outputs": [
    {
     "name": "stdout",
     "output_type": "stream",
     "text": [
      "(3, 4)\n"
     ]
    }
   ],
   "source": [
    "P = K @ Rt\n",
    "print(P.shape)"
   ]
  },
  {
   "cell_type": "code",
   "execution_count": null,
   "metadata": {},
   "outputs": [],
   "source": []
  }
 ],
 "metadata": {
  "kernelspec": {
   "display_name": ".venv-camera-self-calibration",
   "language": "python",
   "name": "python3"
  },
  "language_info": {
   "codemirror_mode": {
    "name": "ipython",
    "version": 3
   },
   "file_extension": ".py",
   "mimetype": "text/x-python",
   "name": "python",
   "nbconvert_exporter": "python",
   "pygments_lexer": "ipython3",
   "version": "3.8.8"
  },
  "orig_nbformat": 4
 },
 "nbformat": 4,
 "nbformat_minor": 2
}
